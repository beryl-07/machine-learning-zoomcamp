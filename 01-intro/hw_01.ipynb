{
 "cells": [
  {
   "cell_type": "code",
   "id": "initial_id",
   "metadata": {
    "collapsed": true,
    "ExecuteTime": {
     "end_time": "2025-09-30T04:22:12.644633Z",
     "start_time": "2025-09-30T04:22:12.635683Z"
    }
   },
   "source": [
    "import pandas as pd\n",
    "import numpy as np"
   ],
   "outputs": [],
   "execution_count": 84
  },
  {
   "metadata": {
    "ExecuteTime": {
     "end_time": "2025-09-30T03:13:14.450325Z",
     "start_time": "2025-09-30T03:13:14.437702Z"
    }
   },
   "cell_type": "code",
   "source": "pd.__version__",
   "id": "aea71003f86e5353",
   "outputs": [
    {
     "data": {
      "text/plain": [
       "'2.3.2'"
      ]
     },
     "execution_count": 3,
     "metadata": {},
     "output_type": "execute_result"
    }
   ],
   "execution_count": 3
  },
  {
   "metadata": {
    "ExecuteTime": {
     "end_time": "2025-09-30T03:13:16.184771Z",
     "start_time": "2025-09-30T03:13:16.092638Z"
    }
   },
   "cell_type": "code",
   "source": "df = pd.read_csv('./car_fuel_efficiency.csv')",
   "id": "7388e763f2981a1",
   "outputs": [],
   "execution_count": 4
  },
  {
   "metadata": {
    "ExecuteTime": {
     "end_time": "2025-09-30T03:14:04.232818Z",
     "start_time": "2025-09-30T03:14:04.224371Z"
    }
   },
   "cell_type": "code",
   "source": "df.shape",
   "id": "81cdc79ca63a3713",
   "outputs": [
    {
     "data": {
      "text/plain": [
       "(9704, 11)"
      ]
     },
     "execution_count": 6,
     "metadata": {},
     "output_type": "execute_result"
    }
   ],
   "execution_count": 6
  },
  {
   "metadata": {},
   "cell_type": "code",
   "outputs": [],
   "execution_count": null,
   "source": "df.isnull().sum()",
   "id": "affd7d6537a496c0"
  },
  {
   "metadata": {
    "ExecuteTime": {
     "end_time": "2025-09-30T03:05:05.271669Z",
     "start_time": "2025-09-30T03:05:05.245079Z"
    }
   },
   "cell_type": "code",
   "outputs": [
    {
     "data": {
      "text/plain": [
       "   engine_displacement  num_cylinders  horsepower  vehicle_weight  \\\n",
       "0                  170            3.0       159.0     3413.433759   \n",
       "1                  130            5.0        97.0     3149.664934   \n",
       "2                  170            NaN        78.0     3079.038997   \n",
       "3                  220            4.0         NaN     2542.392402   \n",
       "4                  210            1.0       140.0     3460.870990   \n",
       "\n",
       "   acceleration  model_year  origin fuel_type         drivetrain  num_doors  \\\n",
       "0          17.7        2003  Europe  Gasoline    All-wheel drive        0.0   \n",
       "1          17.8        2007     USA  Gasoline  Front-wheel drive        0.0   \n",
       "2          15.1        2018  Europe  Gasoline  Front-wheel drive        0.0   \n",
       "3          20.2        2009     USA    Diesel    All-wheel drive        2.0   \n",
       "4          14.4        2009  Europe  Gasoline    All-wheel drive        2.0   \n",
       "\n",
       "   fuel_efficiency_mpg  \n",
       "0            13.231729  \n",
       "1            13.688217  \n",
       "2            14.246341  \n",
       "3            16.912736  \n",
       "4            12.488369  "
      ],
      "text/html": [
       "<div>\n",
       "<style scoped>\n",
       "    .dataframe tbody tr th:only-of-type {\n",
       "        vertical-align: middle;\n",
       "    }\n",
       "\n",
       "    .dataframe tbody tr th {\n",
       "        vertical-align: top;\n",
       "    }\n",
       "\n",
       "    .dataframe thead th {\n",
       "        text-align: right;\n",
       "    }\n",
       "</style>\n",
       "<table border=\"1\" class=\"dataframe\">\n",
       "  <thead>\n",
       "    <tr style=\"text-align: right;\">\n",
       "      <th></th>\n",
       "      <th>engine_displacement</th>\n",
       "      <th>num_cylinders</th>\n",
       "      <th>horsepower</th>\n",
       "      <th>vehicle_weight</th>\n",
       "      <th>acceleration</th>\n",
       "      <th>model_year</th>\n",
       "      <th>origin</th>\n",
       "      <th>fuel_type</th>\n",
       "      <th>drivetrain</th>\n",
       "      <th>num_doors</th>\n",
       "      <th>fuel_efficiency_mpg</th>\n",
       "    </tr>\n",
       "  </thead>\n",
       "  <tbody>\n",
       "    <tr>\n",
       "      <th>0</th>\n",
       "      <td>170</td>\n",
       "      <td>3.0</td>\n",
       "      <td>159.0</td>\n",
       "      <td>3413.433759</td>\n",
       "      <td>17.7</td>\n",
       "      <td>2003</td>\n",
       "      <td>Europe</td>\n",
       "      <td>Gasoline</td>\n",
       "      <td>All-wheel drive</td>\n",
       "      <td>0.0</td>\n",
       "      <td>13.231729</td>\n",
       "    </tr>\n",
       "    <tr>\n",
       "      <th>1</th>\n",
       "      <td>130</td>\n",
       "      <td>5.0</td>\n",
       "      <td>97.0</td>\n",
       "      <td>3149.664934</td>\n",
       "      <td>17.8</td>\n",
       "      <td>2007</td>\n",
       "      <td>USA</td>\n",
       "      <td>Gasoline</td>\n",
       "      <td>Front-wheel drive</td>\n",
       "      <td>0.0</td>\n",
       "      <td>13.688217</td>\n",
       "    </tr>\n",
       "    <tr>\n",
       "      <th>2</th>\n",
       "      <td>170</td>\n",
       "      <td>NaN</td>\n",
       "      <td>78.0</td>\n",
       "      <td>3079.038997</td>\n",
       "      <td>15.1</td>\n",
       "      <td>2018</td>\n",
       "      <td>Europe</td>\n",
       "      <td>Gasoline</td>\n",
       "      <td>Front-wheel drive</td>\n",
       "      <td>0.0</td>\n",
       "      <td>14.246341</td>\n",
       "    </tr>\n",
       "    <tr>\n",
       "      <th>3</th>\n",
       "      <td>220</td>\n",
       "      <td>4.0</td>\n",
       "      <td>NaN</td>\n",
       "      <td>2542.392402</td>\n",
       "      <td>20.2</td>\n",
       "      <td>2009</td>\n",
       "      <td>USA</td>\n",
       "      <td>Diesel</td>\n",
       "      <td>All-wheel drive</td>\n",
       "      <td>2.0</td>\n",
       "      <td>16.912736</td>\n",
       "    </tr>\n",
       "    <tr>\n",
       "      <th>4</th>\n",
       "      <td>210</td>\n",
       "      <td>1.0</td>\n",
       "      <td>140.0</td>\n",
       "      <td>3460.870990</td>\n",
       "      <td>14.4</td>\n",
       "      <td>2009</td>\n",
       "      <td>Europe</td>\n",
       "      <td>Gasoline</td>\n",
       "      <td>All-wheel drive</td>\n",
       "      <td>2.0</td>\n",
       "      <td>12.488369</td>\n",
       "    </tr>\n",
       "  </tbody>\n",
       "</table>\n",
       "</div>"
      ]
     },
     "execution_count": 6,
     "metadata": {},
     "output_type": "execute_result"
    }
   ],
   "execution_count": 6,
   "source": "df.head(5)",
   "id": "7bed5671ecdf1ba1"
  },
  {
   "metadata": {
    "ExecuteTime": {
     "end_time": "2025-09-30T03:14:57.507457Z",
     "start_time": "2025-09-30T03:14:57.496339Z"
    }
   },
   "cell_type": "code",
   "outputs": [
    {
     "data": {
      "text/plain": [
       "fuel_type\n",
       "Gasoline    4898\n",
       "Diesel      4806\n",
       "Name: count, dtype: int64"
      ]
     },
     "execution_count": 8,
     "metadata": {},
     "output_type": "execute_result"
    }
   ],
   "execution_count": 8,
   "source": "df['fuel_type'].value_counts()",
   "id": "6dc52acb5c135a33"
  },
  {
   "metadata": {
    "ExecuteTime": {
     "end_time": "2025-09-30T03:34:49.010963Z",
     "start_time": "2025-09-30T03:34:48.958277Z"
    }
   },
   "cell_type": "code",
   "outputs": [
    {
     "data": {
      "text/plain": [
       "4"
      ]
     },
     "execution_count": 39,
     "metadata": {},
     "output_type": "execute_result"
    }
   ],
   "execution_count": 39,
   "source": [
    "nb_col = 0\n",
    "for col in df.columns:\n",
    "    if df[col].isnull().sum() != 0:\n",
    "        nb_col += 1\n",
    "nb_col"
   ],
   "id": "dc134324b7871555"
  },
  {
   "metadata": {
    "ExecuteTime": {
     "end_time": "2025-09-30T03:40:05.500563Z",
     "start_time": "2025-09-30T03:40:05.493114Z"
    }
   },
   "cell_type": "code",
   "source": "df.groupby(by=\"origin\")[\"fuel_efficiency_mpg\"].max()[\"Asia\"]",
   "id": "d24d8c6b4e92e259",
   "outputs": [
    {
     "data": {
      "text/plain": [
       "np.float64(23.759122836520497)"
      ]
     },
     "execution_count": 44,
     "metadata": {},
     "output_type": "execute_result"
    }
   ],
   "execution_count": 44
  },
  {
   "metadata": {},
   "cell_type": "markdown",
   "source": [
    "## Q6. Median value of horsepower\n",
    "1. Find the median value of the horsepower column in the dataset."
   ],
   "id": "456818ba615b9321"
  },
  {
   "metadata": {
    "ExecuteTime": {
     "end_time": "2025-09-30T03:41:05.682540Z",
     "start_time": "2025-09-30T03:41:05.657758Z"
    }
   },
   "cell_type": "code",
   "source": "df[\"horsepower\"].mean()",
   "id": "d9f778e7a1564a43",
   "outputs": [
    {
     "data": {
      "text/plain": [
       "np.float64(149.65729212983547)"
      ]
     },
     "execution_count": 45,
     "metadata": {},
     "output_type": "execute_result"
    }
   ],
   "execution_count": 45
  },
  {
   "metadata": {},
   "cell_type": "markdown",
   "source": "2. Next, calculate the most frequent value of the same horsepower column.",
   "id": "bd4989ac2c2c0ef6"
  },
  {
   "metadata": {
    "ExecuteTime": {
     "end_time": "2025-09-30T04:10:12.395936Z",
     "start_time": "2025-09-30T04:10:12.363226Z"
    }
   },
   "cell_type": "code",
   "source": [
    "most_frequent = df[\"horsepower\"].value_counts(sort=True).index[0]\n",
    "most_frequent"
   ],
   "id": "864f78343454bfe0",
   "outputs": [
    {
     "data": {
      "text/plain": [
       "np.float64(152.0)"
      ]
     },
     "execution_count": 74,
     "metadata": {},
     "output_type": "execute_result"
    }
   ],
   "execution_count": 74
  },
  {
   "metadata": {},
   "cell_type": "markdown",
   "source": "3. Use the fillna method to fill the missing values in the horsepower column with the most frequent value from the previous step.",
   "id": "38548f23cf77ee2b"
  },
  {
   "metadata": {
    "ExecuteTime": {
     "end_time": "2025-09-30T04:12:15.747760Z",
     "start_time": "2025-09-30T04:12:15.739031Z"
    }
   },
   "cell_type": "code",
   "source": "df.fillna({\"horsepower\": most_frequent}, inplace=True)",
   "id": "fc06b613c1706c4f",
   "outputs": [],
   "execution_count": 76
  },
  {
   "metadata": {},
   "cell_type": "markdown",
   "source": "4. Now, calculate the median value of horsepower once again.",
   "id": "d5e68b4332fc9543"
  },
  {
   "metadata": {
    "ExecuteTime": {
     "end_time": "2025-09-30T04:12:45.915396Z",
     "start_time": "2025-09-30T04:12:45.908546Z"
    }
   },
   "cell_type": "code",
   "source": "df[\"horsepower\"].mean()",
   "id": "aae9bbab17043b39",
   "outputs": [
    {
     "data": {
      "text/plain": [
       "np.float64(149.82821516900248)"
      ]
     },
     "execution_count": 77,
     "metadata": {},
     "output_type": "execute_result"
    }
   ],
   "execution_count": 77
  },
  {
   "metadata": {},
   "cell_type": "markdown",
   "source": [
    "## Q7. Sum of weights\n",
    "1. Select all the cars from Asia"
   ],
   "id": "9144aa46133eecd3"
  },
  {
   "metadata": {
    "ExecuteTime": {
     "end_time": "2025-09-30T04:49:11.368845Z",
     "start_time": "2025-09-30T04:49:11.355455Z"
    }
   },
   "cell_type": "code",
   "source": [
    "X = np.array(df.loc[df.origin == 'Asia', ['vehicle_weight', 'model_year']].iloc[:7])\n",
    "X"
   ],
   "id": "ad8a5279a1a866e2",
   "outputs": [
    {
     "data": {
      "text/plain": [
       "array([[2714.21930965, 2016.        ],\n",
       "       [2783.86897424, 2010.        ],\n",
       "       [3582.68736772, 2007.        ],\n",
       "       [2231.8081416 , 2011.        ],\n",
       "       [2659.43145076, 2016.        ],\n",
       "       [2844.22753389, 2014.        ],\n",
       "       [3761.99403819, 2019.        ]])"
      ]
     },
     "execution_count": 108,
     "metadata": {},
     "output_type": "execute_result"
    }
   ],
   "execution_count": 108
  },
  {
   "metadata": {
    "ExecuteTime": {
     "end_time": "2025-09-30T04:50:34.302650Z",
     "start_time": "2025-09-30T04:50:34.283686Z"
    }
   },
   "cell_type": "code",
   "source": [
    "XTX = np.dot(X.T, X)\n",
    "XTX"
   ],
   "id": "12cddda7a658a174",
   "outputs": [
    {
     "data": {
      "text/plain": [
       "array([[62248334.33150762, 41431216.5073268 ],\n",
       "       [41431216.5073268 , 28373339.        ]])"
      ]
     },
     "execution_count": 109,
     "metadata": {},
     "output_type": "execute_result"
    }
   ],
   "execution_count": 109
  },
  {
   "metadata": {
    "ExecuteTime": {
     "end_time": "2025-09-30T04:50:51.630541Z",
     "start_time": "2025-09-30T04:50:51.624140Z"
    }
   },
   "cell_type": "code",
   "source": [
    "inv_XTX = np.linalg.inv(XTX)\n",
    "y = np.array([1100, 1300, 800, 900, 1000, 1100, 1200])"
   ],
   "id": "96feed96ae34dc05",
   "outputs": [],
   "execution_count": 110
  },
  {
   "metadata": {
    "ExecuteTime": {
     "end_time": "2025-09-30T04:52:49.420736Z",
     "start_time": "2025-09-30T04:52:49.405442Z"
    }
   },
   "cell_type": "code",
   "source": [
    "H = np.dot(inv_XTX, X.T)\n",
    "w = np.dot(H, y)\n",
    "\n",
    "w.sum()"
   ],
   "id": "3985cc4a0bdef02b",
   "outputs": [
    {
     "data": {
      "text/plain": [
       "np.float64(0.5187709081074023)"
      ]
     },
     "execution_count": 113,
     "metadata": {},
     "output_type": "execute_result"
    }
   ],
   "execution_count": 113
  }
 ],
 "metadata": {
  "kernelspec": {
   "display_name": "Python 3",
   "language": "python",
   "name": "python3"
  },
  "language_info": {
   "codemirror_mode": {
    "name": "ipython",
    "version": 2
   },
   "file_extension": ".py",
   "mimetype": "text/x-python",
   "name": "python",
   "nbconvert_exporter": "python",
   "pygments_lexer": "ipython2",
   "version": "2.7.6"
  }
 },
 "nbformat": 4,
 "nbformat_minor": 5
}
